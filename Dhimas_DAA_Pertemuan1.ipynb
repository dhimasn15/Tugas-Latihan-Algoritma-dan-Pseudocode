{
  "nbformat": 4,
  "nbformat_minor": 0,
  "metadata": {
    "colab": {
      "provenance": [],
      "authorship_tag": "ABX9TyPJ36Eq6bZI5zzoPW6Prl0e",
      "include_colab_link": true
    },
    "kernelspec": {
      "name": "python3",
      "display_name": "Python 3"
    },
    "language_info": {
      "name": "python"
    }
  },
  "cells": [
    {
      "cell_type": "markdown",
      "metadata": {
        "id": "view-in-github",
        "colab_type": "text"
      },
      "source": [
        "<a href=\"https://colab.research.google.com/github/dhimasn15/Tugas-Latihan-Algoritma-dan-Pseudocode/blob/main/Dhimas_DAA_Pertemuan1.ipynb\" target=\"_parent\"><img src=\"https://colab.research.google.com/assets/colab-badge.svg\" alt=\"Open In Colab\"/></a>"
      ]
    },
    {
      "cell_type": "code",
      "execution_count": 3,
      "metadata": {
        "colab": {
          "base_uri": "https://localhost:8080/"
        },
        "id": "o5t9MuFTER1V",
        "outputId": "00cd04ec-b2d4-4776-c9ad-de81aafeb2fd"
      },
      "outputs": [
        {
          "output_type": "stream",
          "name": "stdout",
          "text": [
            "93\n"
          ]
        }
      ],
      "source": [
        "i = 93 #angka pertama\n",
        "y = 9  #angka kedua\n",
        "\n",
        "if i > y:\n",
        "    print(i)\n",
        "else:\n",
        "    print(y)\n"
      ]
    }
  ]
}